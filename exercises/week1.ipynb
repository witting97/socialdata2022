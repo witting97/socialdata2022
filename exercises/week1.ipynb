{
 "cells": [
  {
   "cell_type": "code",
   "execution_count": 1,
   "id": "d6e611f0",
   "metadata": {},
   "outputs": [],
   "source": [
    "import pandas as pd\n",
    "import seaborn as sns\n",
    "import matplotlib.pyplot as plt\n",
    "sns.set(rc={'figure.figsize':(12,8)})"
   ]
  },
  {
   "cell_type": "markdown",
   "id": "d49ea08d",
   "metadata": {},
   "source": [
    "# Part 2: Load some crime-data into `pandas`\n",
    "\n",
    "Go and check out the [Python Bootcamp](https://nbviewer.org/github/suneman/socialdata2022/blob/main/lectures/PythonBootcamp.ipynb) lecture if you don't know what \"loading data into Pandas\" means. If you're used to using Pandas, then it's finally time to get your hands on some data!!\n",
    "\n",
    "> *Exercise 1*\n",
    ">\n",
    "> * Go to https://datasf.org/opendata/\n",
    "> * Click on \"Public Safety\"\n",
    "> * Download all police incidence reports, historical 2003 to may 2018. You can get everything as a big CSV file if you press the *Export* button (it's a snappy little ~500MB file).\n",
    "> * Load the data into `pandas` using thie tips and tricks described [here](https://www.shanelynn.ie/python-pandas-read_csv-load-data-from-csv-files/).\n",
    "> * Use pandas to generate the following simple statistics\n",
    ">   - Report the total number of crimes in the dataset.\n",
    ">   - List the various categories of crime. How many are there? \n",
    ">   - List the number of crimes in each category."
   ]
  },
  {
   "cell_type": "code",
   "execution_count": 2,
   "id": "e1c8544a",
   "metadata": {},
   "outputs": [],
   "source": [
    "# Load data\n",
    "df = pd.read_csv('crimedata.csv')"
   ]
  },
  {
   "cell_type": "code",
   "execution_count": 3,
   "id": "2ffc7c8e",
   "metadata": {},
   "outputs": [
    {
     "data": {
      "text/html": [
       "<div>\n",
       "<style scoped>\n",
       "    .dataframe tbody tr th:only-of-type {\n",
       "        vertical-align: middle;\n",
       "    }\n",
       "\n",
       "    .dataframe tbody tr th {\n",
       "        vertical-align: top;\n",
       "    }\n",
       "\n",
       "    .dataframe thead th {\n",
       "        text-align: right;\n",
       "    }\n",
       "</style>\n",
       "<table border=\"1\" class=\"dataframe\">\n",
       "  <thead>\n",
       "    <tr style=\"text-align: right;\">\n",
       "      <th></th>\n",
       "      <th>PdId</th>\n",
       "      <th>IncidntNum</th>\n",
       "      <th>Incident Code</th>\n",
       "      <th>Category</th>\n",
       "      <th>Descript</th>\n",
       "      <th>DayOfWeek</th>\n",
       "      <th>Date</th>\n",
       "      <th>Time</th>\n",
       "      <th>PdDistrict</th>\n",
       "      <th>Resolution</th>\n",
       "      <th>...</th>\n",
       "      <th>DELETE - HSOC Zones 2 2</th>\n",
       "      <th>Fix It Zones as of 2018-02-07 2 2</th>\n",
       "      <th>CBD, BID and GBD Boundaries as of 2017 2 2</th>\n",
       "      <th>Areas of Vulnerability, 2016 2 2</th>\n",
       "      <th>Central Market/Tenderloin Boundary 2 2</th>\n",
       "      <th>Central Market/Tenderloin Boundary Polygon - Updated 2 2</th>\n",
       "      <th>HSOC Zones as of 2018-06-05 2 2</th>\n",
       "      <th>OWED Public Spaces 2 2</th>\n",
       "      <th>Neighborhoods 2</th>\n",
       "      <th>Year</th>\n",
       "    </tr>\n",
       "  </thead>\n",
       "  <tbody>\n",
       "    <tr>\n",
       "      <th>0</th>\n",
       "      <td>3114751606302</td>\n",
       "      <td>31147516</td>\n",
       "      <td>6302</td>\n",
       "      <td>LARCENY/THEFT</td>\n",
       "      <td>PETTY THEFT FROM A BUILDING</td>\n",
       "      <td>Sunday</td>\n",
       "      <td>09/28/2003</td>\n",
       "      <td>10:00</td>\n",
       "      <td>SOUTHERN</td>\n",
       "      <td>NONE</td>\n",
       "      <td>...</td>\n",
       "      <td>NaN</td>\n",
       "      <td>NaN</td>\n",
       "      <td>NaN</td>\n",
       "      <td>NaN</td>\n",
       "      <td>NaN</td>\n",
       "      <td>NaN</td>\n",
       "      <td>NaN</td>\n",
       "      <td>NaN</td>\n",
       "      <td>NaN</td>\n",
       "      <td>2003</td>\n",
       "    </tr>\n",
       "    <tr>\n",
       "      <th>1</th>\n",
       "      <td>5069701104134</td>\n",
       "      <td>50697011</td>\n",
       "      <td>4134</td>\n",
       "      <td>ASSAULT</td>\n",
       "      <td>BATTERY</td>\n",
       "      <td>Wednesday</td>\n",
       "      <td>06/22/2005</td>\n",
       "      <td>12:20</td>\n",
       "      <td>NORTHERN</td>\n",
       "      <td>NONE</td>\n",
       "      <td>...</td>\n",
       "      <td>NaN</td>\n",
       "      <td>NaN</td>\n",
       "      <td>NaN</td>\n",
       "      <td>2.0</td>\n",
       "      <td>NaN</td>\n",
       "      <td>NaN</td>\n",
       "      <td>NaN</td>\n",
       "      <td>NaN</td>\n",
       "      <td>97.0</td>\n",
       "      <td>2005</td>\n",
       "    </tr>\n",
       "    <tr>\n",
       "      <th>2</th>\n",
       "      <td>6074729204104</td>\n",
       "      <td>60747292</td>\n",
       "      <td>4104</td>\n",
       "      <td>ASSAULT</td>\n",
       "      <td>ASSAULT</td>\n",
       "      <td>Saturday</td>\n",
       "      <td>07/15/2006</td>\n",
       "      <td>00:55</td>\n",
       "      <td>CENTRAL</td>\n",
       "      <td>NONE</td>\n",
       "      <td>...</td>\n",
       "      <td>NaN</td>\n",
       "      <td>NaN</td>\n",
       "      <td>NaN</td>\n",
       "      <td>2.0</td>\n",
       "      <td>NaN</td>\n",
       "      <td>NaN</td>\n",
       "      <td>NaN</td>\n",
       "      <td>NaN</td>\n",
       "      <td>106.0</td>\n",
       "      <td>2006</td>\n",
       "    </tr>\n",
       "    <tr>\n",
       "      <th>3</th>\n",
       "      <td>7103536315201</td>\n",
       "      <td>71035363</td>\n",
       "      <td>15201</td>\n",
       "      <td>ASSAULT</td>\n",
       "      <td>STALKING</td>\n",
       "      <td>Tuesday</td>\n",
       "      <td>09/25/2007</td>\n",
       "      <td>00:01</td>\n",
       "      <td>TARAVAL</td>\n",
       "      <td>NONE</td>\n",
       "      <td>...</td>\n",
       "      <td>NaN</td>\n",
       "      <td>NaN</td>\n",
       "      <td>NaN</td>\n",
       "      <td>1.0</td>\n",
       "      <td>NaN</td>\n",
       "      <td>NaN</td>\n",
       "      <td>NaN</td>\n",
       "      <td>NaN</td>\n",
       "      <td>49.0</td>\n",
       "      <td>2007</td>\n",
       "    </tr>\n",
       "    <tr>\n",
       "      <th>4</th>\n",
       "      <td>11082415274000</td>\n",
       "      <td>110824152</td>\n",
       "      <td>74000</td>\n",
       "      <td>MISSING PERSON</td>\n",
       "      <td>MISSING ADULT</td>\n",
       "      <td>Saturday</td>\n",
       "      <td>09/24/2011</td>\n",
       "      <td>11:00</td>\n",
       "      <td>TARAVAL</td>\n",
       "      <td>LOCATED</td>\n",
       "      <td>...</td>\n",
       "      <td>NaN</td>\n",
       "      <td>NaN</td>\n",
       "      <td>NaN</td>\n",
       "      <td>NaN</td>\n",
       "      <td>NaN</td>\n",
       "      <td>NaN</td>\n",
       "      <td>NaN</td>\n",
       "      <td>NaN</td>\n",
       "      <td>NaN</td>\n",
       "      <td>2011</td>\n",
       "    </tr>\n",
       "  </tbody>\n",
       "</table>\n",
       "<p>5 rows × 36 columns</p>\n",
       "</div>"
      ],
      "text/plain": [
       "             PdId  IncidntNum  Incident Code        Category  \\\n",
       "0   3114751606302    31147516           6302   LARCENY/THEFT   \n",
       "1   5069701104134    50697011           4134         ASSAULT   \n",
       "2   6074729204104    60747292           4104         ASSAULT   \n",
       "3   7103536315201    71035363          15201         ASSAULT   \n",
       "4  11082415274000   110824152          74000  MISSING PERSON   \n",
       "\n",
       "                      Descript  DayOfWeek        Date   Time PdDistrict  \\\n",
       "0  PETTY THEFT FROM A BUILDING     Sunday  09/28/2003  10:00   SOUTHERN   \n",
       "1                      BATTERY  Wednesday  06/22/2005  12:20   NORTHERN   \n",
       "2                      ASSAULT   Saturday  07/15/2006  00:55    CENTRAL   \n",
       "3                     STALKING    Tuesday  09/25/2007  00:01    TARAVAL   \n",
       "4                MISSING ADULT   Saturday  09/24/2011  11:00    TARAVAL   \n",
       "\n",
       "  Resolution  ... DELETE - HSOC Zones 2 2  Fix It Zones as of 2018-02-07 2 2  \\\n",
       "0       NONE  ...                     NaN                                NaN   \n",
       "1       NONE  ...                     NaN                                NaN   \n",
       "2       NONE  ...                     NaN                                NaN   \n",
       "3       NONE  ...                     NaN                                NaN   \n",
       "4    LOCATED  ...                     NaN                                NaN   \n",
       "\n",
       "   CBD, BID and GBD Boundaries as of 2017 2 2  \\\n",
       "0                                         NaN   \n",
       "1                                         NaN   \n",
       "2                                         NaN   \n",
       "3                                         NaN   \n",
       "4                                         NaN   \n",
       "\n",
       "  Areas of Vulnerability, 2016 2 2  Central Market/Tenderloin Boundary 2 2  \\\n",
       "0                              NaN                                     NaN   \n",
       "1                              2.0                                     NaN   \n",
       "2                              2.0                                     NaN   \n",
       "3                              1.0                                     NaN   \n",
       "4                              NaN                                     NaN   \n",
       "\n",
       "   Central Market/Tenderloin Boundary Polygon - Updated 2 2  \\\n",
       "0                                                NaN          \n",
       "1                                                NaN          \n",
       "2                                                NaN          \n",
       "3                                                NaN          \n",
       "4                                                NaN          \n",
       "\n",
       "   HSOC Zones as of 2018-06-05 2 2  OWED Public Spaces 2 2  Neighborhoods 2  \\\n",
       "0                              NaN                     NaN              NaN   \n",
       "1                              NaN                     NaN             97.0   \n",
       "2                              NaN                     NaN            106.0   \n",
       "3                              NaN                     NaN             49.0   \n",
       "4                              NaN                     NaN              NaN   \n",
       "\n",
       "   Year  \n",
       "0  2003  \n",
       "1  2005  \n",
       "2  2006  \n",
       "3  2007  \n",
       "4  2011  \n",
       "\n",
       "[5 rows x 36 columns]"
      ]
     },
     "execution_count": 3,
     "metadata": {},
     "output_type": "execute_result"
    }
   ],
   "source": [
    "# Get overview of data\n",
    "df['Year'] = df['Date'].str[-4:]\n",
    "df.head(5)"
   ]
  },
  {
   "cell_type": "code",
   "execution_count": 4,
   "id": "bd57c5e4",
   "metadata": {},
   "outputs": [
    {
     "name": "stdout",
     "output_type": "stream",
     "text": [
      "1703626\n"
     ]
    }
   ],
   "source": [
    "# Number of unique incidents\n",
    "print(len(set(df['IncidntNum'])))"
   ]
  },
  {
   "cell_type": "code",
   "execution_count": 5,
   "id": "4ad5ce73",
   "metadata": {},
   "outputs": [
    {
     "name": "stdout",
     "output_type": "stream",
     "text": [
      "{'LOITERING', 'SUSPICIOUS OCC', 'PORNOGRAPHY/OBSCENE MAT', 'TRESPASS', 'BURGLARY', 'EXTORTION', 'DRUG/NARCOTIC', 'VANDALISM', 'ROBBERY', 'ASSAULT', 'LARCENY/THEFT', 'SECONDARY CODES', 'VEHICLE THEFT', 'BAD CHECKS', 'MISSING PERSON', 'RECOVERED VEHICLE', 'DISORDERLY CONDUCT', 'KIDNAPPING', 'SEX OFFENSES, NON FORCIBLE', 'EMBEZZLEMENT', 'OTHER OFFENSES', 'FORGERY/COUNTERFEITING', 'SEX OFFENSES, FORCIBLE', 'STOLEN PROPERTY', 'GAMBLING', 'FRAUD', 'WEAPON LAWS', 'LIQUOR LAWS', 'SUICIDE', 'DRUNKENNESS', 'NON-CRIMINAL', 'ARSON', 'BRIBERY', 'TREA', 'DRIVING UNDER THE INFLUENCE', 'PROSTITUTION', 'WARRANTS'}\n",
      "37\n"
     ]
    }
   ],
   "source": [
    "# Crime categories\n",
    "print(set(df['Category']))\n",
    "print(len(set(df['Category'])))"
   ]
  },
  {
   "cell_type": "code",
   "execution_count": 6,
   "id": "b85435ea",
   "metadata": {},
   "outputs": [
    {
     "data": {
      "text/plain": [
       "LARCENY/THEFT                  477975\n",
       "OTHER OFFENSES                 301874\n",
       "NON-CRIMINAL                   236928\n",
       "ASSAULT                        167042\n",
       "VEHICLE THEFT                  126228\n",
       "DRUG/NARCOTIC                  117821\n",
       "VANDALISM                      114718\n",
       "WARRANTS                        99821\n",
       "BURGLARY                        91067\n",
       "SUSPICIOUS OCC                  79087\n",
       "ROBBERY                         54467\n",
       "MISSING PERSON                  44268\n",
       "FRAUD                           41348\n",
       "FORGERY/COUNTERFEITING          22995\n",
       "SECONDARY CODES                 22378\n",
       "WEAPON LAWS                     21004\n",
       "TRESPASS                        19194\n",
       "PROSTITUTION                    16501\n",
       "STOLEN PROPERTY                 11450\n",
       "DISORDERLY CONDUCT               9932\n",
       "DRUNKENNESS                      9760\n",
       "SEX OFFENSES, FORCIBLE           8747\n",
       "RECOVERED VEHICLE                8688\n",
       "DRIVING UNDER THE INFLUENCE      5652\n",
       "KIDNAPPING                       4282\n",
       "ARSON                            3875\n",
       "EMBEZZLEMENT                     2984\n",
       "LIQUOR LAWS                      2840\n",
       "LOITERING                        2402\n",
       "SUICIDE                          1291\n",
       "BAD CHECKS                        924\n",
       "BRIBERY                           796\n",
       "EXTORTION                         729\n",
       "GAMBLING                          343\n",
       "PORNOGRAPHY/OBSCENE MAT            57\n",
       "SEX OFFENSES, NON FORCIBLE         43\n",
       "TREA                               14\n",
       "Name: Category, dtype: int64"
      ]
     },
     "execution_count": 6,
     "metadata": {},
     "output_type": "execute_result"
    }
   ],
   "source": [
    "df['Category'].value_counts()"
   ]
  },
  {
   "cell_type": "markdown",
   "id": "3801d96f",
   "metadata": {},
   "source": [
    "\n",
    "---\n",
    "\n",
    "In order to do awesome *predictive policing* later on in the class, we're going to dissect the SF crime-data quite thoroughly to figure out what has been going on over the last  years on the San Francisco crime scene. \n",
    "\n",
    "> *Exercise 2*: The types of crimes. The first field we'll dig into is the column \"Category\".\n",
    "> * We have already counted the number of crimes in each category. What is the most commonly occurring category of crime? What is the least frequently occurring?\n",
    "> * Create a bar-plot over crime occurrences (**N.B.** for a plot to be informative we have to remember to add any relevant info, e.g., title, labels, etc.). Mine looks like this \n",
    "\n",
    "<div>\n",
    "<img src=\"https://raw.githubusercontent.com/suneman/socialdata2022/main/files/CrimeOccurrencesByCategory.png\" width=\"700\"/>\n",
    "</div>\n",
    "\n"
   ]
  },
  {
   "cell_type": "code",
   "execution_count": 7,
   "id": "57e9c60b",
   "metadata": {
    "scrolled": true
   },
   "outputs": [
    {
     "data": {
      "text/plain": [
       "[Text(0.5, 0, 'Crime category'), Text(0, 0.5, 'Occurences')]"
      ]
     },
     "execution_count": 7,
     "metadata": {},
     "output_type": "execute_result"
    },
    {
     "data": {
      "image/png": "[encoded data removed]",
      "text/plain": [
       "<Figure size 864x576 with 1 Axes>"
      ]
     },
     "metadata": {},
     "output_type": "display_data"
    }
   ],
   "source": [
    "plt.xticks(rotation=90)\n",
    "plt.title(\"Crime count by category\")\n",
    "ax = sns.countplot(x='Category', data=df,order = df['Category'].value_counts().index)\n",
    "ax.set(xlabel='Crime category', ylabel='Occurences')"
   ]
  },
  {
   "cell_type": "code",
   "execution_count": null,
   "id": "a7cd04bc",
   "metadata": {},
   "outputs": [],
   "source": []
  },
  {
   "cell_type": "code",
   "execution_count": null,
   "id": "bc92dcf3",
   "metadata": {},
   "outputs": [],
   "source": []
  },
  {
   "cell_type": "code",
   "execution_count": null,
   "id": "090f57c7",
   "metadata": {},
   "outputs": [],
   "source": []
  },
  {
   "cell_type": "markdown",
   "id": "846831d3",
   "metadata": {},
   "source": [
    "---\n",
    "\n",
    "The plot above already gives us a bit of information but does not tell us anything about how crimes changed over the years. Let's have a look at it!\n",
    "\n",
    "> *Exercise 3*: Temporal patterns.\n",
    "> * To start off easily, let's count the number of crimes per year:\n",
    ">     * What is the year with most crimes? \n",
    ">     * What is the year with less crimes? (**hint** if your result is 2018, have a further look at the data you have. Is it complete? If not, how would you pre-process the data to answer these questions?).\n",
    ">     * What's the average number of crimes per year? \n",
    "> * Now, let's change our bar-plot above by replacing the count with the *average number of crimes per year by category* and by adding its *standard deviation*.\n",
    "> * Finally, Police chief Suneman is interested in the temporal development of only a subset of categories, the so-called focus crimes. Those categories are listed below (for convenient copy-paste action). Now create bar-charts displaying the year-by-year development of each of these categories across the years 2003-2017.\n",
    "> "
   ]
  },
  {
   "cell_type": "code",
   "execution_count": 9,
   "id": "47728074",
   "metadata": {},
   "outputs": [
    {
     "name": "stdout",
     "output_type": "stream",
     "text": [
      "2015    151459\n",
      "2017    149487\n",
      "2013    147664\n",
      "2016    145994\n",
      "2014    144844\n",
      "2003    142803\n",
      "2004    142054\n",
      "2005    137048\n",
      "2012    135464\n",
      "2008    135242\n",
      "2009    134309\n",
      "2006    131856\n",
      "2007    131771\n",
      "2010    127758\n",
      "2011    126713\n",
      "Name: Year, dtype: int64\n",
      "138964.4\n"
     ]
    },
    {
     "data": {
      "text/plain": [
       "2015    151459\n",
       "2017    149487\n",
       "2013    147664\n",
       "2016    145994\n",
       "2014    144844\n",
       "2003    142803\n",
       "2004    142054\n",
       "2005    137048\n",
       "2012    135464\n",
       "2008    135242\n",
       "2009    134309\n",
       "2006    131856\n",
       "2007    131771\n",
       "2010    127758\n",
       "2011    126713\n",
       "Name: Year, dtype: int64"
      ]
     },
     "execution_count": 9,
     "metadata": {},
     "output_type": "execute_result"
    }
   ],
   "source": [
    "# Most and least criminal years, 2015 and 2011\n",
    "df = df[df['Year'] != '2018']\n",
    "print(df['Year'].value_counts())\n",
    "print(sum(df['Year'].value_counts()) / len(set(df['Year'])))\n",
    "\n"
   ]
  },
  {
   "cell_type": "code",
   "execution_count": null,
   "id": "b3cba5a5",
   "metadata": {},
   "outputs": [],
   "source": []
  },
  {
   "cell_type": "code",
   "execution_count": null,
   "id": "d18423eb",
   "metadata": {},
   "outputs": [],
   "source": []
  },
  {
   "cell_type": "code",
   "execution_count": null,
   "id": "fa6050c3",
   "metadata": {},
   "outputs": [],
   "source": []
  },
  {
   "cell_type": "code",
   "execution_count": null,
   "id": "bf58c006",
   "metadata": {},
   "outputs": [],
   "source": []
  }
 ],
 "metadata": {
  "kernelspec": {
   "display_name": "Python 3 (ipykernel)",
   "language": "python",
   "name": "python3"
  },
  "language_info": {
   "codemirror_mode": {
    "name": "ipython",
    "version": 3
   },
   "file_extension": ".py",
   "mimetype": "text/x-python",
   "name": "python",
   "nbconvert_exporter": "python",
   "pygments_lexer": "ipython3",
   "version": "3.9.0"
  }
 },
 "nbformat": 4,
 "nbformat_minor": 5
}
