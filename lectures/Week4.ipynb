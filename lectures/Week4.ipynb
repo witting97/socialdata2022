{
 "cells": [
  {
   "cell_type": "markdown",
   "metadata": {},
   "source": [
    "# Week 4\n",
    "\n",
    "Yay! It's week 4. Today's we'll keep things light. \n",
    "\n",
    "I've noticed that many of you are struggling a bit to keep up and still working on exercises from the previous weeks. Thus, this week we only have two components with no lectures and very little reading. \n",
    "\n",
    "\n",
    "## Overview\n",
    "\n",
    "* An exercise on visualizing geodata using a different set of tools from the ones we played with during Lecture 2.\n",
    "* Thinking about visualization, data quality, and binning. Why ***looking at the details of the data before applying fancy methods*** is often important."
   ]
  },
  {
   "cell_type": "markdown",
   "metadata": {},
   "source": [
    "## Part 1: Visualizing geo-data\n",
    "\n",
    "It turns out that `plotly` (which we used during Week 2) is not the only way of working with geo-data. There are many different ways to go about it. (The hard-core PhD and PostDoc researchers in my group simply use matplotlib, since that provides more control. For an example of that kind of thing, check out [this one](https://towardsdatascience.com/visualizing-geospatial-data-in-python-e070374fe621).)\n",
    "\n",
    "Today, we'll try another library for geodata called \"[Folium](https://github.com/python-visualization/folium)\". It's good for you all to try out a few different libraries - remember that data visualization and analysis in Python is all about the ability to use many different tools. \n",
    "\n",
    "The exercise below is based on the code illustrated in this nice [tutorial](https://www.kaggle.com/daveianhickey/how-to-folium-for-maps-heatmaps-time-data), so let us start by taking a look at that one."
   ]
  },
  {
   "cell_type": "markdown",
   "metadata": {},
   "source": [
    "*Reading*. Read through the following tutorial\n",
    " * \"How to: Folium for maps, heatmaps & time data\". Get it here: https://www.kaggle.com/daveianhickey/how-to-folium-for-maps-heatmaps-time-data\n",
    " * (Optional) There are also some nice tricks in \"Spatial Visualizations and Analysis in Python with Folium\". Read it here: https://towardsdatascience.com/data-101s-spatial-visualizations-and-analysis-in-python-with-folium-39730da2adf"
   ]
  },
  {
   "cell_type": "markdown",
   "metadata": {},
   "source": [
    "> *Exercise 1.1*: A new take on geospatial data. \n",
    ">\n",
    ">A couple of weeks ago (Part 3 of Week 2), we worked with spacial data by using color-intensity of shapefiles to show the counts of certain crimes within those individual areas. Today, we look at studying geospatial data by plotting raw data points as well as heatmaps on top of actual maps.\n",
    "> \n",
    "> * First start by plotting a map of San Francisco with a nice tight zoom. Simply use the command `folium.Map([lat, lon], zoom_start=13)`, where you'll have to look up San Francisco's longitude and latitude.\n",
    "> * Next, use the the coordinates for SF City Hall `37.77919, -122.41914` to indicate its location on the map with a nice, pop-up enabled maker. (In the screenshot below, I used the black & white Stamen tiles, because they look cool).\n",
    "> <img src=\"https://raw.githubusercontent.com/suneman/socialdata2022/main/files/city_hall_2022.png\" alt=\"drawing\" width=\"600\"/>\n",
    "> * Now, let's plot some more data (no need for pop-ups this time). Select a couple of months of data for `'DRUG/NARCOTIC'` and draw a little dot for each arrest for those two months. You could, for example, choose June-July 2016, but you can choose anything you like - the main concern is to not have too many points as this uses a lot of memory and makes Folium behave non-optimally. \n",
    "> We can call this kind of visualization a *point scatter plot*.\n",
    "\n",
    "Ok. Time for a little break. Note that a nice thing about Folium is that you can zoom in and out of the maps.\n",
    "\n",
    "> *Exercise 1.2*: Heatmaps.\n",
    "> * Now, let's play with **heatmaps**. You can figure out the appropriate commands by grabbing code from the main [tutorial](https://www.kaggle.com/daveianhickey/how-to-folium-for-maps-heatmaps-time-data)) and modifying to suit your needs.\n",
    ">    * To create your first heatmap, grab all arrests for the category `'SEX OFFENSES, NON FORCIBLE'` across all time. Play with parameters to get plots you like.\n",
    ">    * Now, comment on the differences between scatter plots and heatmaps. \n",
    ">.      - What can you see using the scatter-plots that you can't see using the heatmaps? \n",
    ">.      - And *vice versa*: what does the heatmaps help you see that's difficult to distinguish in the scatter-plots?\n",
    ">    * Play around with the various parameters for heatmaps. You can find a list here: https://python-visualization.github.io/folium/plugins.html\n",
    ">    * Comment on the effect on the various parameters for the heatmaps. How do they change the picture? (at least talk about the `radius` and `blur`).\n",
    "> For one combination of settings, my heatmap plot looks like this.\n",
    "> <img src=\"https://raw.githubusercontent.com/suneman/socialdata2022/main/files/crime_hot_spot.png\" alt=\"drawing\" width=\"600\"/>\n",
    ">    * In that screenshot, I've (manually) highlighted a specific hotspot for this type of crime. Use your detective skills to find out what's going on in that building on the 800 block of Bryant street ... and explain in your own words. \n",
    "\n",
    "(*Fun fact*: I remembered the concentration of crime-counts discussed at the end of this exercise from when I did the course back in 2016. It popped up when I used a completely different framework for visualizing geodata called [`geoplotlib`](https://github.com/andrea-cuttone/geoplotlib). You can spot it if you go to that year's [lecture 2](https://nbviewer.jupyter.org/github/suneman/socialdataanalysis2016/blob/master/lectures/Week3.ipynb), exercise 4.)"
   ]
  },
  {
   "cell_type": "markdown",
   "metadata": {},
   "source": [
    "For the final element of working with heatmaps, let's now use the cool Folium functionality `HeatMapWithTime` to create a visualization of how the patterns of your favorite crime-type changes over time.\n",
    "\n",
    "> *Exercise 1.3*: Heatmap movies. This exercise is a bit more independent than above - you get to make all the choices.\n",
    "> * Start by choosing your favorite crimetype. Prefereably one with spatial patterns that change over time (use your data-exploration from the previous lectures to choose a good one).\n",
    "> * Now, choose a time-resolution. You could plot daily, weekly, monthly datasets to plot in your movie. Again the goal is to find interesting temporal patterns to display. We want at least 20 frames though.\n",
    "> * Create the movie using `HeatMapWithTime`.\n",
    "> * Comment on your results: \n",
    ">   - What patterns does your movie reveal?\n",
    ">   - Motivate/explain the reasoning behind your choice of crimetype and time-resolution. "
   ]
  },
  {
   "cell_type": "markdown",
   "metadata": {},
   "source": [
    "## Part 2: Errors in the data. The importance of looking at raw (or close to raw) data.\n",
    "\n",
    "We started the course by plotting simple histogram and bar plots that showed a lot of cool patterns. But sometimes the binning can hide imprecision, irregularity, and simple errors in the data that could be misleading. In the work we've done so far, we've already come across at least three examples of this in the SF data. \n",
    "\n",
    "1. In the temporal activity for `PROSTITUTION` something surprising is going on on Thursday. Remind yourself [**here**](https://raw.githubusercontent.com/suneman/socialdata2022/main/files/prostitution.png), where I've highlighted the phenomenon I'm talking about.\n",
    "2. When we investigated the details of how the timestamps are recorded using jitter-plots, we saw that many more crimes were recorded e.g. on the hour, 15 minutes past the hour, and to a lesser in whole increments of 10 minutes. Crimes didn't appear to be recorded as frequently in between those round numbers. Remind yourself [**here**](https://raw.githubusercontent.com/suneman/socialdata2022/main/files/jitter.png), where I've highlighted the phenomenon I'm talking about.\n",
    "3. And, today we saw that the Hall of Justice seemed to be an unlikely hotspot for sex offences. Remind yourself [**here**](https://raw.githubusercontent.com/suneman/socialdata2022/main/files/crime_hot_spot.png).\n",
    "\n",
    "> *Exercise 2*: Data errors. The data errors we discovered above become difficult to notice when we aggregate data (and when we calculate mean values, as well as statistics more generally). Thus, when we visualize, errors become difficult to notice when binning the data. We explore this process in the exercise below.\n",
    ">\n",
    ">This last exercise for today has two parts:\n",
    "> * In each of the examples above, describe in your own words how the data-errors I call attention to above can bias the binned versions of the data. Also, briefly mention how not noticing these errors can result in misconceptions about the underlying patterns of what's going on in San Francisco (and our modeling).\n",
    "> * Find your own example of human noise in the data and visualize it."
   ]
  }
 ],
 "metadata": {
  "kernelspec": {
   "display_name": "Python 3",
   "language": "python",
   "name": "python3"
  },
  "language_info": {
   "codemirror_mode": {
    "name": "ipython",
    "version": 3
   },
   "file_extension": ".py",
   "mimetype": "text/x-python",
   "name": "python",
   "nbconvert_exporter": "python",
   "pygments_lexer": "ipython3",
   "version": "3.7.7"
  }
 },
 "nbformat": 4,
 "nbformat_minor": 1
}
